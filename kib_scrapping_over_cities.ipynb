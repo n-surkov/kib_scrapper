{
 "cells": [
  {
   "cell_type": "code",
   "execution_count": 1,
   "id": "b59a8290",
   "metadata": {},
   "outputs": [],
   "source": [
    "%load_ext autoreload\n",
    "%autoreload 2"
   ]
  },
  {
   "cell_type": "code",
   "execution_count": 2,
   "id": "3bb772a4",
   "metadata": {},
   "outputs": [],
   "source": [
    "from selenium import webdriver\n",
    "from selenium.webdriver.common.by import By\n",
    "import json\n",
    "import time\n",
    "import numpy as np\n",
    "import pandas as pd\n",
    "import pickle\n",
    "import os\n",
    "\n",
    "pd.set_option('display.max_columns', 200)\n",
    "pd.set_option('display.max_rows', 200)\n",
    "\n",
    "import warnings\n",
    "warnings.filterwarnings(\"ignore\")"
   ]
  },
  {
   "cell_type": "code",
   "execution_count": 3,
   "id": "1459bca3",
   "metadata": {},
   "outputs": [],
   "source": [
    "with open('./config.json', 'r') as fo:\n",
    "    conf = json.loads(fo.read())\n",
    "kib_login = conf['kib_login']\n",
    "kib_password = conf['kib_password']\n",
    "data_folder = './parsed_data'"
   ]
  },
  {
   "cell_type": "markdown",
   "id": "c507ca2b",
   "metadata": {},
   "source": [
    "# Пробуем парсинг К&Б через selenium"
   ]
  },
  {
   "cell_type": "code",
   "execution_count": 4,
   "id": "ce4bc3ab",
   "metadata": {},
   "outputs": [],
   "source": [
    "from src.kib_scrapper import LocalCatalogItems, KibCatalog, ShopSelector"
   ]
  },
  {
   "cell_type": "code",
   "execution_count": 5,
   "id": "06f03edf",
   "metadata": {},
   "outputs": [],
   "source": [
    "driver = webdriver.Safari()"
   ]
  },
  {
   "cell_type": "code",
   "execution_count": 6,
   "id": "bc4fcae1",
   "metadata": {},
   "outputs": [],
   "source": [
    "catalog = KibCatalog(driver, kib_login=kib_login, kib_password=kib_password, save_path=data_folder)"
   ]
  },
  {
   "cell_type": "code",
   "execution_count": 7,
   "id": "4e3edc0d",
   "metadata": {},
   "outputs": [],
   "source": [
    "cities = []\n",
    "for macro, d in catalog.shop_list.items():\n",
    "    cities += list(d.keys())\n",
    "\n",
    "cities_need = \"\"\"КАЗАНЬ\n",
    "САМАРА\n",
    "ЯРОСЛАВЛЬ\n",
    "НИЖНИЙ НОВГОРОД\n",
    "МОСКВА\n",
    "КРАСНОДАР\n",
    "САНКТ-ПЕТЕРБУРГ\n",
    "НОВОСИБИРСК\n",
    "Екатеринбург\n",
    "Пермь\n",
    "ВОРОНЕЖ\n",
    "ТУЛА\n",
    "Ростов-на-Дону\n",
    "Челябинск\"\"\"\n",
    "cities_need = [c.lower() for c in cities_need.split('\\n')]\n",
    "regions_to_parse = []\n",
    "for city in cities_need:\n",
    "    for macro, d in catalog.shop_list.items():\n",
    "        found = False\n",
    "        for c in d.keys():\n",
    "            if city in c.lower():\n",
    "                found = True\n",
    "                regions_to_parse.append((macro, c))\n",
    "                break\n",
    "        if found:\n",
    "            break\n",
    "    else:\n",
    "        print(f'Не получилось найти город {city}')\n",
    "\n",
    "adresses = []\n",
    "for macro, city in regions_to_parse:\n",
    "    adresses.append((macro, city, np.random.choice(catalog.shop_list[macro][city])))"
   ]
  },
  {
   "cell_type": "code",
   "execution_count": 7,
   "id": "55b11588",
   "metadata": {},
   "outputs": [],
   "source": [
    "adresses = [\n",
    "    ('Республика Татарстан', 'Казань', 'ул. Маршала Чуйкова, 63а'),\n",
    "    ('Самарская область', 'Самара', 'ул. Советской Армии, 17'),\n",
    "    ('Ярославская область', 'Ярославль', 'пр-кт Ленинградский, 66а'),\n",
    "    ('Нижегородская область', 'Нижний Новгород', 'ул. Василия Иванова, 9'),\n",
    "    ('Москва', 'Москва', 'ул. Весенняя, 4'),\n",
    "    ('Краснодарский край', 'Краснодар', 'ул. Агрохимическая, 117/1'),\n",
    "    ('Санкт-Петербург', 'Санкт-Петербург', 'пр-т Пискаревский, 10а'),\n",
    "    ('Новосибирская область', 'Новосибирск', 'ул. Комсомольская, 2/2'),\n",
    "    ('Свердловская область', 'Екатеринбург', 'ул. Первомайская, 35'),\n",
    "    ('Пермский край', 'Пермь', 'ул. Уинская, 35'),\n",
    "    ('Воронежская область', 'Воронеж', 'ул. Березовая роща, 62б'),\n",
    "    ('Тульская область', 'Тула', 'ул. Кутузова, 43'),\n",
    "    ('Ростовская область', 'Ростов-на-Дону', 'б-р Комарова, 20'),\n",
    "    ('Челябинская область', 'Челябинск', 'ул. Доватора, 42')\n",
    "]"
   ]
  },
  {
   "cell_type": "markdown",
   "id": "5961ca84",
   "metadata": {},
   "source": [
    "**Парсинг всего каталога**"
   ]
  },
  {
   "cell_type": "code",
   "execution_count": 9,
   "id": "582e0941",
   "metadata": {},
   "outputs": [],
   "source": [
    "# %%time\n",
    "# # catalog = KibCatalog(driver, ['Москва', 'Курская область'], ['Вода, соки, напитки'])\n",
    "# catalog = KibCatalog(driver, kib_login=kib_login, kib_password=kib_password, save_path=data_folder, regions = )\n",
    "# # with open('all_kib_catalog.pickle', 'wb') as fo:\n",
    "# #     pickle.dump(catalog.catalogs, fo)\n",
    "# # catalog.parse_all_catalogs(['Бакалея, чай, кофе'])\n",
    "# for i in range(10):\n",
    "#     try:\n",
    "#         catalog.parse_all_catalogs()\n",
    "#     except:\n",
    "#         driver.quit()\n",
    "#         driver = webdriver.Safari()\n",
    "#         catalog = KibCatalog(driver)"
   ]
  },
  {
   "cell_type": "markdown",
   "id": "03e6ed4a",
   "metadata": {},
   "source": [
    "**Парсинг отдельных магазинов**"
   ]
  },
  {
   "cell_type": "code",
   "execution_count": 8,
   "id": "c0484fce",
   "metadata": {},
   "outputs": [
    {
     "data": {
      "text/plain": [
       "False"
      ]
     },
     "execution_count": 8,
     "metadata": {},
     "output_type": "execute_result"
    }
   ],
   "source": [
    "'kib_Свердловская область_Екатеринбург_ул. Первомайская, 35.csv' in os.listdir('./parsed_data')"
   ]
  },
  {
   "cell_type": "code",
   "execution_count": 11,
   "id": "62d71113",
   "metadata": {},
   "outputs": [
    {
     "data": {
      "text/plain": [
       "False"
      ]
     },
     "execution_count": 11,
     "metadata": {},
     "output_type": "execute_result"
    }
   ],
   "source": [
    "'kib_Свердловская область_Екатеринбург_ул. Первомайская, 35.csv' in list(os.listdir('./parsed_data'))"
   ]
  },
  {
   "cell_type": "code",
   "execution_count": 10,
   "id": "b6d2fe49",
   "metadata": {},
   "outputs": [
    {
     "data": {
      "text/plain": [
       "['kib_Республика Татарстан_Казань_ул. Маршала Чуйкова, 63а.csv',\n",
       " '.DS_Store',\n",
       " 'kib_Самарская область_Самара_ул. Советской Армии, 17.csv',\n",
       " 'kib_Краснодарский край_Краснодар_ул. Агрохимическая, 117-1.csv',\n",
       " 'kib_Пермский край_Пермь_ул. Уинская, 35.csv',\n",
       " 'kib_Санкт-Петербург_Санкт-Петербург_пр-т Пискаревский, 10а.csv',\n",
       " 'shops_info_old.pickle',\n",
       " 'kib_Нижегородская область_Нижний Новгород_ул. Василия Иванова, 9.csv',\n",
       " 'kib_Свердловская область_Екатеринбург_ул. Первомайская, 35.csv',\n",
       " 'shops_info.pickle',\n",
       " 'kib_Ярославская область_Ярославль_пр-кт Ленинградский, 66а.csv',\n",
       " 'kib_Москва_Москва_ул. Весенняя, 4.csv',\n",
       " '.ipynb_checkpoints',\n",
       " 'kib_parsing_2022_01_30.csv',\n",
       " 'kib_Новосибирская область_Новосибирск_ул. Комсомольская, 2-2.csv']"
      ]
     },
     "execution_count": 10,
     "metadata": {},
     "output_type": "execute_result"
    }
   ],
   "source": [
    "os.listdir('./parsed_data')"
   ]
  },
  {
   "cell_type": "code",
   "execution_count": 12,
   "id": "72c5a4da",
   "metadata": {},
   "outputs": [
    {
     "name": "stdout",
     "output_type": "stream",
     "text": [
      "kib_Воронежская область_Воронеж_ул. Березовая роща, 62б.csv\n",
      "parsing Вино импорт\n",
      "parsing Вино Россия\n",
      "parsing Вино с оценкой\n",
      "parsing Вино игристое, вермут \n",
      "parsing Водка, настойки\n",
      "parsing Виски, бурбон\n",
      "parsing Коньяк, арманьяк\n",
      "parsing Текила, ром, ликер\n",
      "parsing Вода, соки, напитки\n",
      "parsing Мясо, рыба, икра\n",
      "parsing Молоко, сыры, яйцо\n",
      "parsing Бакалея, чай, кофе\n",
      "parsing Консервация, салаты\n",
      "parsing Фрукты, овощи\n",
      "Не удалось загрузить каталог\n",
      "parsing Шоколад, конфеты, мороженое\n",
      "parsing Хлеб, выпечка, печенье\n",
      "parsing Снэки\n",
      "parsing Пиво импорт\n",
      "parsing Пиво Россия\n",
      "parsing Коктейли\n",
      "Не удалось загрузить каталог\n",
      "parsing Электронные одноразовые сигареты\n",
      "Не удалось загрузить каталог\n",
      "parsing Logic, IQOS, Juul, Ploom, Glo\n",
      "Не удалось загрузить каталог\n",
      "parsing Для кальяна\n",
      "Не удалось загрузить каталог\n",
      "parsing Промтовары, игрушки\n",
      "parsing Корм для животных\n",
      "kib_Тульская область_Тула_ул. Кутузова, 43.csv\n",
      "parsing Вино импорт\n",
      "parsing Вино Россия\n",
      "parsing Вино с оценкой\n",
      "parsing Вино игристое, вермут \n",
      "parsing Водка, настойки\n",
      "parsing Виски, бурбон\n",
      "parsing Коньяк, арманьяк\n",
      "parsing Текила, ром, ликер\n",
      "parsing Вода, соки, напитки\n",
      "parsing Мясо, рыба, икра\n",
      "parsing Молоко, сыры, яйцо\n",
      "parsing Бакалея, чай, кофе\n",
      "parsing Консервация, салаты\n",
      "parsing Фрукты, овощи\n",
      "Не удалось загрузить каталог\n",
      "parsing Шоколад, конфеты, мороженое\n",
      "parsing Хлеб, выпечка, печенье\n",
      "parsing Снэки\n",
      "parsing Пиво импорт\n",
      "parsing Пиво Россия\n",
      "parsing Коктейли\n",
      "Не удалось загрузить каталог\n",
      "parsing Электронные одноразовые сигареты\n",
      "Не удалось загрузить каталог\n",
      "parsing Logic, IQOS, Juul, Ploom, Glo\n",
      "Не удалось загрузить каталог\n",
      "parsing Для кальяна\n",
      "Не удалось загрузить каталог\n",
      "parsing Промтовары, игрушки\n",
      "parsing Корм для животных\n",
      "kib_Ростовская область_Ростов-на-Дону_б-р Комарова, 20.csv\n",
      "parsing Вино импорт\n",
      "parsing Вино Россия\n",
      "parsing Вино с оценкой\n",
      "parsing Вино игристое, вермут \n",
      "parsing Водка, настойки\n",
      "parsing Виски, бурбон\n",
      "parsing Коньяк, арманьяк\n",
      "parsing Текила, ром, ликер\n",
      "parsing Вода, соки, напитки\n",
      "parsing Мясо, рыба, икра\n",
      "parsing Молоко, сыры, яйцо\n",
      "parsing Бакалея, чай, кофе\n",
      "parsing Консервация, салаты\n",
      "parsing Фрукты, овощи\n",
      "Не удалось загрузить каталог\n",
      "parsing Шоколад, конфеты, мороженое\n",
      "parsing Хлеб, выпечка, печенье\n",
      "parsing Снэки\n",
      "parsing Пиво импорт\n",
      "parsing Пиво Россия\n",
      "parsing Коктейли\n",
      "Не удалось загрузить каталог\n",
      "parsing Электронные одноразовые сигареты\n",
      "Не удалось загрузить каталог\n",
      "parsing Logic, IQOS, Juul, Ploom, Glo\n",
      "Не удалось загрузить каталог\n",
      "parsing Для кальяна\n",
      "Не удалось загрузить каталог\n",
      "parsing Промтовары, игрушки\n",
      "parsing Корм для животных\n",
      "kib_Челябинская область_Челябинск_ул. Доватора, 42.csv\n",
      "parsing Вино импорт\n",
      "parsing Вино Россия\n",
      "parsing Вино с оценкой\n",
      "parsing Вино игристое, вермут \n",
      "parsing Водка, настойки\n",
      "parsing Виски, бурбон\n",
      "parsing Коньяк, арманьяк\n",
      "parsing Текила, ром, ликер\n",
      "parsing Вода, соки, напитки\n",
      "parsing Мясо, рыба, икра\n",
      "parsing Молоко, сыры, яйцо\n",
      "parsing Бакалея, чай, кофе\n",
      "parsing Консервация, салаты\n",
      "parsing Фрукты, овощи\n",
      "Не удалось загрузить каталог\n",
      "parsing Шоколад, конфеты, мороженое\n",
      "parsing Хлеб, выпечка, печенье\n",
      "parsing Снэки\n",
      "parsing Пиво импорт\n",
      "parsing Пиво Россия\n",
      "parsing Коктейли\n",
      "Не удалось загрузить каталог\n",
      "parsing Электронные одноразовые сигареты\n",
      "Не удалось загрузить каталог\n",
      "parsing Logic, IQOS, Juul, Ploom, Glo\n",
      "Не удалось загрузить каталог\n",
      "parsing Для кальяна\n",
      "Не удалось загрузить каталог\n",
      "parsing Промтовары, игрушки\n",
      "parsing Корм для животных\n"
     ]
    }
   ],
   "source": [
    "# adresses = [\n",
    "# #     ('Москва', 'Москва', 'пер. Лялин, 22'),\n",
    "# #     ('Москва', 'Москва', 'б-р Академика Ландау, 3'),\n",
    "#     ('Москва', 'Москва', 'Михайловский Верхн. 2-й проезд, 6')\n",
    "# ]\n",
    "for ad in adresses[10:]:\n",
    "    tag = '_'.join(ad).replace('/', '-')\n",
    "    filename = 'kib_' + tag + '.csv'\n",
    "    print(filename)\n",
    "    if filename in os.listdir('./parsed_data'):\n",
    "        print('already done')\n",
    "        continue\n",
    "    \n",
    "    file_path = './parsed_data/' + filename\n",
    "    items = catalog.parse_catalog(*ad)\n",
    "    df = items.get_dataframe()\n",
    "    \n",
    "    df.to_csv(file_path, index=False)\n",
    "    driver.get('https://krasnoeibeloe.ru')\n",
    "    time.sleep(10)"
   ]
  },
  {
   "cell_type": "code",
   "execution_count": 4,
   "id": "ec7c719a",
   "metadata": {},
   "outputs": [],
   "source": [
    "files = os.listdir('./parsed_data')\n",
    "df = pd.read_csv('./parsed_data/kib_Свердловская область_Екатеринбург_ул. Первомайская, 35.csv')\n",
    "df = df[df.region.isnull()]\n",
    "for file in files:\n",
    "    _, ext = os.path.splitext(file)\n",
    "    if ext != '.csv':\n",
    "        continue\n",
    "    curr_df = pd.read_csv('./parsed_data/' + file)\n",
    "    df = pd.concat([df, curr_df])"
   ]
  },
  {
   "cell_type": "code",
   "execution_count": 7,
   "id": "282b2d2f",
   "metadata": {},
   "outputs": [],
   "source": [
    "# df.to_csv('parsed_data/kib_parsing_2022_01_30.csv', index=False, encoding='utf-16')"
   ]
  },
  {
   "cell_type": "code",
   "execution_count": 5,
   "id": "99084c72",
   "metadata": {},
   "outputs": [],
   "source": [
    "df.to_excel('parsed_data/kib_parsing_2022_01_30.xlsx', index=False)"
   ]
  },
  {
   "cell_type": "code",
   "execution_count": null,
   "id": "ba55c343",
   "metadata": {},
   "outputs": [],
   "source": []
  }
 ],
 "metadata": {
  "kernelspec": {
   "display_name": "Python 3",
   "language": "python",
   "name": "python3"
  },
  "language_info": {
   "codemirror_mode": {
    "name": "ipython",
    "version": 3
   },
   "file_extension": ".py",
   "mimetype": "text/x-python",
   "name": "python",
   "nbconvert_exporter": "python",
   "pygments_lexer": "ipython3",
   "version": "3.8.8"
  }
 },
 "nbformat": 4,
 "nbformat_minor": 5
}
