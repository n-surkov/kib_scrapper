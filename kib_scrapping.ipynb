{
 "cells": [
  {
   "cell_type": "code",
   "execution_count": 1,
   "id": "b59a8290",
   "metadata": {},
   "outputs": [],
   "source": [
    "%load_ext autoreload\n",
    "%autoreload 2"
   ]
  },
  {
   "cell_type": "code",
   "execution_count": 2,
   "id": "3bb772a4",
   "metadata": {},
   "outputs": [],
   "source": [
    "from selenium import webdriver\n",
    "import json\n",
    "import time\n",
    "import numpy as np\n",
    "import pandas as pd\n",
    "import pickle\n",
    "import os\n",
    "\n",
    "pd.set_option('display.max_columns', 200)\n",
    "pd.set_option('display.max_rows', 200)\n",
    "\n",
    "import warnings\n",
    "warnings.filterwarnings(\"ignore\")"
   ]
  },
  {
   "cell_type": "code",
   "execution_count": 3,
   "id": "1459bca3",
   "metadata": {},
   "outputs": [],
   "source": [
    "with open('./config.json', 'r') as fo:\n",
    "    conf = json.loads(fo.read())\n",
    "kib_login = conf['kib_login']\n",
    "kib_password = conf['kib_password']\n",
    "data_folder = './parsed_data'"
   ]
  },
  {
   "cell_type": "markdown",
   "id": "c507ca2b",
   "metadata": {},
   "source": [
    "# Пробуем парсинг К&Б через selenium"
   ]
  },
  {
   "cell_type": "code",
   "execution_count": 4,
   "id": "ce4bc3ab",
   "metadata": {},
   "outputs": [],
   "source": [
    "from src.kib_scrapper import LocalCatalogItems, KibCatalog"
   ]
  },
  {
   "cell_type": "code",
   "execution_count": 5,
   "id": "06f03edf",
   "metadata": {},
   "outputs": [],
   "source": [
    "driver = webdriver.Safari()"
   ]
  },
  {
   "cell_type": "code",
   "execution_count": 6,
   "id": "bc4fcae1",
   "metadata": {},
   "outputs": [],
   "source": [
    "catalog = KibCatalog(driver, kib_login=kib_login, kib_password=kib_password, save_path=data_folder)"
   ]
  },
  {
   "cell_type": "markdown",
   "id": "5961ca84",
   "metadata": {},
   "source": [
    "**Парсинг всего каталога**"
   ]
  },
  {
   "cell_type": "code",
   "execution_count": null,
   "id": "582e0941",
   "metadata": {},
   "outputs": [],
   "source": [
    "%%time\n",
    "# catalog = KibCatalog(driver, ['Москва', 'Курская область'], ['Вода, соки, напитки'])\n",
    "catalog = KibCatalog(driver, kib_login=kib_login, kib_password=kib_password, save_path=data_folder)\n",
    "# with open('all_kib_catalog.pickle', 'wb') as fo:\n",
    "#     pickle.dump(catalog.catalogs, fo)\n",
    "# catalog.parse_all_catalogs(['Бакалея, чай, кофе'])\n",
    "for i in range(10):\n",
    "    try:\n",
    "        catalog.parse_all_catalogs()\n",
    "    except:\n",
    "        driver.quit()\n",
    "        driver = webdriver.Safari()\n",
    "        catalog = KibCatalog(driver)"
   ]
  },
  {
   "cell_type": "markdown",
   "id": "03e6ed4a",
   "metadata": {},
   "source": [
    "**Парсинг отдельных магазинов**"
   ]
  },
  {
   "cell_type": "code",
   "execution_count": null,
   "id": "72c5a4da",
   "metadata": {},
   "outputs": [],
   "source": [
    "adresses = [\n",
    "#     ('Москва', 'Москва', 'пер. Лялин, 22'),\n",
    "#     ('Москва', 'Москва', 'б-р Академика Ландау, 3'),\n",
    "    ('Москва', 'Москва', 'Михайловский Верхн. 2-й проезд, 6')\n",
    "]\n",
    "for ad in adresses:\n",
    "    items = catalog.parse_catalog(*ad)\n",
    "    df = items.get_dataframe()\n",
    "    df.to_csv(f'./parsed_data/kib_{ad[2].replace('/', '-')}.csv', index=False)"
   ]
  },
  {
   "cell_type": "code",
   "execution_count": null,
   "id": "7e36e125",
   "metadata": {},
   "outputs": [],
   "source": []
  }
 ],
 "metadata": {
  "kernelspec": {
   "display_name": "Python 3",
   "language": "python",
   "name": "python3"
  },
  "language_info": {
   "codemirror_mode": {
    "name": "ipython",
    "version": 3
   },
   "file_extension": ".py",
   "mimetype": "text/x-python",
   "name": "python",
   "nbconvert_exporter": "python",
   "pygments_lexer": "ipython3",
   "version": "3.8.8"
  }
 },
 "nbformat": 4,
 "nbformat_minor": 5
}
